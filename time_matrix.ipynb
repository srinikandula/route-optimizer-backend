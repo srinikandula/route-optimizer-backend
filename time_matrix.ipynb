{
 "cells": [
  {
   "cell_type": "code",
   "execution_count": null,
   "id": "629e277f",
   "metadata": {},
   "outputs": [],
   "source": [
    "import requests\n",
    "\n",
    "def send_req2(origins, destinations, API_KEY):\n",
    "    url = f\"https://maps.googleapis.com/maps/api/distancematrix/json?origins={'|'.join([','.join(map(str, o)) for o in origins])}&destinations={'|'.join([','.join(map(str, d)) for d in destinations])}&key={API_KEY}\"\n",
    "\n",
    "    # Send the request and get the response\n",
    "    response = requests.get(url)\n",
    "    data = response.json()\n",
    "\n",
    "    # Extract the travel times from the response\n",
    "    time_matrix = []\n",
    "    for row in data[\"rows\"]:\n",
    "        row_times = []\n",
    "        for element in row[\"elements\"]:\n",
    "            if element[\"status\"] == \"OK\":\n",
    "                row_times.append(element[\"duration\"][\"value\"])\n",
    "            else:\n",
    "                row_times.append(\"No route found\")  # Handle errors gracefully\n",
    "        time_matrix.append(row_times)\n",
    "    \n",
    "    return time_matrix"
   ]
  },
  {
   "cell_type": "code",
   "execution_count": null,
   "id": "1b5f0c71",
   "metadata": {},
   "outputs": [],
   "source": [
    "origins = [(28.597844, 77.021848), (28.609321, 77.034826),(28.6100 , 77.0380),(28.7495 , 77.1184),(28.5457, 77.1928)]\n",
    "API_KEY = \"enter you api key\"\n",
    "a=send_req2(origins,origins,API_KEY)\n",
    "for row in a:\n",
    "    print(row)"
   ]
  }
 ],
 "metadata": {
  "kernelspec": {
   "display_name": "Python 3 (ipykernel)",
   "language": "python",
   "name": "python3"
  },
  "language_info": {
   "codemirror_mode": {
    "name": "ipython",
    "version": 3
   },
   "file_extension": ".py",
   "mimetype": "text/x-python",
   "name": "python",
   "nbconvert_exporter": "python",
   "pygments_lexer": "ipython3",
   "version": "3.11.5"
  }
 },
 "nbformat": 4,
 "nbformat_minor": 5
}
